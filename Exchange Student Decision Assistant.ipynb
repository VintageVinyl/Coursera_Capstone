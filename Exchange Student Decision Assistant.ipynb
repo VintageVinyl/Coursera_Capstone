{
    "cells": [
        {
            "cell_type": "markdown",
            "metadata": {
                "collapsed": true
            },
            "source": "# Exchange Student Decision Assistant - Notebook"
        },
        {
            "cell_type": "markdown",
            "metadata": {},
            "source": "Presented here is the coordinates for each of the universities supported by the Exchange Student Decision Assistant\n\n- GPS coordinates of Denmark. Latitude: 56.2639 Longitude: 9.5017\n- GPS coordinates of University of Copenhagen (UoC), Denmark. Latitude: 55.6745 Longitude: 12.5702.\n- GPS cpordinates of Aarhus University (AAU), Denmark. Latitude: 56.1666 Longitude: 10.1999\n- GPS coordinates of University of Southern Denmark (USD), Denmark.Latitude: 55.3678 Longitude: 10.4234"
        },
        {
            "cell_type": "code",
            "execution_count": 1,
            "metadata": {},
            "outputs": [
                {
                    "name": "stdout",
                    "output_type": "stream",
                    "text": "Solving environment: | ^C\nfailed\n\nCondaError: KeyboardInterrupt\n\nLibraries imported.\n"
                }
            ],
            "source": "#Load necessary packages\nimport numpy as np\nimport pandas as pd\nimport json\nimport requests\n\n!conda install -c conda-forge folium=0.5.0 --yes\nimport folium # map rendering library\n\nprint('Libraries imported.')"
        },
        {
            "cell_type": "code",
            "execution_count": 5,
            "metadata": {},
            "outputs": [],
            "source": "# Setting the fixed parameters - namely the longitude and latitude of each university\nDK_Lat = 56.2639\nDK_Long = 9.5017\nUOC_Lat = 55.6745\nUOC_Long = 12.5702\nAAU_Lat = 56.1666\nAAU_Long = 10.1999\nUSD_Lat = 55.3678\nUSD_Long = 10.4234"
        },
        {
            "cell_type": "code",
            "execution_count": 58,
            "metadata": {
                "scrolled": false
            },
            "outputs": [
                {
                    "data": {
                        "text/html": "<div style=\"width:100%;\"><div style=\"position:relative;width:100%;height:0;padding-bottom:60%;\"><span style=\"color:#565656\">Make this Notebook Trusted to load map: File -> Trust Notebook</span><iframe src=\"about:blank\" style=\"position:absolute;width:100%;height:100%;left:0;top:0;border:none !important;\" data-html=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 onload=\"this.contentDocument.open();this.contentDocument.write(atob(this.getAttribute('data-html')));this.contentDocument.close();\" allowfullscreen webkitallowfullscreen mozallowfullscreen></iframe></div></div>",
                        "text/plain": "<folium.folium.Map at 0x7f2ae9f54f98>"
                    },
                    "execution_count": 58,
                    "metadata": {},
                    "output_type": "execute_result"
                }
            ],
            "source": "# creates a map of Denmark using the DK_Lat and DK_Long values\nmap_denmark = folium.Map(location=[DK_Lat, DK_Long], zoom_start=8)\n\n# add markers to map\n#Initial adding, University of Copenhagen\nfolium.CircleMarker(\n    [UOC_Lat, UOC_Long],\n    radius=5,\n    color='blue',\n    popup = 'University of Copenhagen',\n    fill=True,\n    fill_color='#3186cc',\n    fill_opacity=0.7,\n    parse_html=False).add_to(map_denmark)\n#Adds Aarhus University to the map\nfolium.CircleMarker(\n    [AAU_Lat, AAU_Long],\n    radius=5,\n    color='blue',\n    popup = 'Aarhus University',\n    fill=True,\n    fill_color='#3186cc',\n    fill_opacity=0.7,\n    parse_html=False).add_to(map_denmark) \n#Adds University of Southern Denmark to the map\nfolium.CircleMarker(\n    [USD_Lat, USD_Long],\n    radius=5,\n    color='blue',\n    popup = 'University of Southern Denmark',\n    fill=True,\n    fill_color='#3186cc',\n    fill_opacity=0.7,\n    parse_html=False).add_to(map_denmark) \n    \nmap_denmark"
        },
        {
            "cell_type": "markdown",
            "metadata": {},
            "source": "A Map of Denmark including the location of the three different universities have been plotted using Folium.\n\nNext up - the notebook will take userinput to set the following parameters\n\n- Distance (DIST) from each university in which you want to search the area for your favourite venues. DIST is measured in the unit of 'meters'\n- Favourite Venue Type 1 (FAV1) \n- Favourite Venue Type 2 (FAV2)\n- Favourite Venue Type 3 (FAV3)\n- Weighting of FAV1 (WF1)\n- Weighting of FAV2 (WF2)\n- Weighting of FAV3 (WF3)\n\nThe 'Favourite Venue Type X', should be selected from the foursquare homepage over venues, and must include the 'categoryId' number. Follow this [link](https://developer.foursquare.com/docs/build-with-foursquare/categories/) and copy/paste the name and number under each of your favourite three venues."
        },
        {
            "cell_type": "code",
            "execution_count": 7,
            "metadata": {
                "scrolled": true
            },
            "outputs": [
                {
                    "name": "stdout",
                    "output_type": "stream",
                    "text": "Please select the distance from the university you want to explore [m]: 8000\n"
                }
            ],
            "source": "DIST = input('Please select the distance from the university you want to explore [m]: ')"
        },
        {
            "cell_type": "markdown",
            "metadata": {},
            "source": "Now select your three favourite types of venues"
        },
        {
            "cell_type": "code",
            "execution_count": 41,
            "metadata": {},
            "outputs": [
                {
                    "name": "stdout",
                    "output_type": "stream",
                    "text": "Please Enter the name of the venue type: Music Venue\nPlease enter the matching CategoryId for your Favourite Venue Type 1: 4bf58dd8d48988d1e5931735\n"
                }
            ],
            "source": "FAV1_Name = input('Please Enter the name of the venue type: ') #let's the user enter Venue name\nFAV1 = input('Please enter the matching CategoryId for your Favourite Venue Type 1: ' ) #Let's the user paste categoryId of Venue"
        },
        {
            "cell_type": "code",
            "execution_count": 42,
            "metadata": {},
            "outputs": [
                {
                    "name": "stdout",
                    "output_type": "stream",
                    "text": "Please Enter the name of the venue type: Basketball Stadium\nPlease enter the matching CategoryId for your Favourite Venue Type 2: 4bf58dd8d48988d18b941735\n"
                }
            ],
            "source": "FAV2_Name = input('Please Enter the name of the venue type: ')\nFAV2 = input('Please enter the matching CategoryId for your Favourite Venue Type 2: ' )"
        },
        {
            "cell_type": "code",
            "execution_count": 43,
            "metadata": {},
            "outputs": [
                {
                    "name": "stdout",
                    "output_type": "stream",
                    "text": "Please Enter the name of the venue type: Beer Bar\nPlease enter the matching CategoryId for your Favourite Venue Type 3: 56aa371ce4b08b9a8d57356c\n"
                }
            ],
            "source": "FAV3_Name = input('Please Enter the name of the venue type: ')\nFAV3 = input('Please enter the matching CategoryId for your Favourite Venue Type 3: ' )"
        },
        {
            "cell_type": "markdown",
            "metadata": {},
            "source": "Next select the weighting (integer) of each Favourite Venue Type, the sum of the weighting must equal 100. Split the 100 between each of the three venues to ensure"
        },
        {
            "cell_type": "code",
            "execution_count": 44,
            "metadata": {},
            "outputs": [],
            "source": "WF1 = 0\nWF2 = 0\nWF3 = 0\ntwf = [WF1, WF2, WF3]"
        },
        {
            "cell_type": "code",
            "execution_count": 45,
            "metadata": {},
            "outputs": [
                {
                    "name": "stdout",
                    "output_type": "stream",
                    "text": "Enter the weight you wish to assign Venue Type 1: 50\nYou have  50  points left to distribute\n"
                }
            ],
            "source": "while True:\n    try:\n        WF1 = int(input('Enter the weight you wish to assign Venue Type 1: ')) #Let's the user assign a value between 0-100 to rate the value of each Venue for them\n        if sum(twf) < 100:\n            break\n        else:\n            print('Total weight exceeds 100')\n    except ValueError:\n        print('Please enter a whole number')\n        \nrem1 = 100 - WF1 - WF2 - WF3\nprint('You have ', rem1, ' points left to distribute')"
        },
        {
            "cell_type": "code",
            "execution_count": 46,
            "metadata": {},
            "outputs": [
                {
                    "name": "stdout",
                    "output_type": "stream",
                    "text": "Enter the weight you wish to assign Venue Type 1: 30\nYou have  20  points left to distribute\n"
                }
            ],
            "source": "while True:\n    try:\n        WF2 = int(input('Enter the weight you wish to assign Venue Type 1: ')) #Let's the user assign a value between 0-100 to rate the value of each Venue for them\n        if sum(twf) < 100:\n            break\n        else:\n            print('Total weight exceeds 100')\n    except ValueError:\n        print('Please enter a whole number')\n        \nrem1 = 100 - WF1 - WF2 - WF3\nprint('You have ', rem1, ' points left to distribute')"
        },
        {
            "cell_type": "code",
            "execution_count": 47,
            "metadata": {},
            "outputs": [
                {
                    "name": "stdout",
                    "output_type": "stream",
                    "text": "Enter the weight you wish to assign Venue Type 1: 20\nYou have  0  points left to distribute\n"
                }
            ],
            "source": "while True:\n    try:\n        WF3 = int(input('Enter the weight you wish to assign Venue Type 1: ')) #Let's the user assign a value between 0-100 to rate the value of each Venue for them\n        if sum(twf) < 100:\n            break\n        else:\n            print('Total weight exceeds 100')\n    except ValueError:\n        print('Please enter a whole number')\n        \nrem1 = 100 - WF1 - WF2 - WF3\nprint('You have ', rem1, ' points left to distribute')"
        },
        {
            "cell_type": "code",
            "execution_count": 48,
            "metadata": {},
            "outputs": [],
            "source": "# The code was removed by Watson Studio for sharing."
        },
        {
            "cell_type": "code",
            "execution_count": 49,
            "metadata": {},
            "outputs": [],
            "source": "#University of Copenhagen URL\nUOC_url = 'https://api.foursquare.com/v2/venues/explore?&client_id={}&client_secret={}&v={}&ll={},{}&radius={}&categoryId={},{},{}'.format(\n    CLIENT_ID, \n    CLIENT_SECRET, \n    VERSION, \n    UOC_Lat, \n    UOC_Long, \n    DIST, \n    FAV1,\n    FAV2,\n    FAV3)\n\n#Aarhus University URL\nAAU_url = 'https://api.foursquare.com/v2/venues/explore?&client_id={}&client_secret={}&v={}&ll={},{}&radius={}&categoryId={},{},{}'.format(\n    CLIENT_ID, \n    CLIENT_SECRET, \n    VERSION, \n    AAU_Lat, \n    AAU_Long, \n    DIST, \n    FAV1,\n    FAV2,\n    FAV3)\n\n#University of Southern Denmark URL\nUSD_url = 'https://api.foursquare.com/v2/venues/explore?&client_id={}&client_secret={}&v={}&ll={},{}&radius={}&categoryId={},{},{}'.format(\n    CLIENT_ID, \n    CLIENT_SECRET, \n    VERSION, \n    USD_Lat, \n    USD_Long, \n    DIST, \n    FAV1,\n    FAV2,\n    FAV3)"
        },
        {
            "cell_type": "code",
            "execution_count": 50,
            "metadata": {},
            "outputs": [],
            "source": "##CREATING DATAFRAMES\n#UOC dataframe\nUOC_results = requests.get(UOC_url).json()[\"response\"]['groups'][0]['items']\nUOC_venues_list=[]\n\nUOC_venues_list.append([(\n    v['venue']['name'],\n    v['venue']['location']['lat'],\n    v['venue']['location']['lng'],\n    v['venue']['categories'][0]['name'],\n    v['venue']['categories'][0]['id']) for v in UOC_results])\n\nUOC_Venues = pd.DataFrame([item for UOC_venues_list in UOC_venues_list for item in UOC_venues_list])\nUOC_Venues.columns = ['Venue', 'Venue Latitude', \n                      'Venue Longitude', \n                      'Venue Category', 'Venue Categories ID'] \n#AAU dataframe\nAAU_results = requests.get(AAU_url).json()[\"response\"]['groups'][0]['items']\nAAU_venues_list=[]\n\nAAU_venues_list.append([(\n    v['venue']['name'],\n    v['venue']['location']['lat'],\n    v['venue']['location']['lng'],\n    v['venue']['categories'][0]['name'],\n    v['venue']['categories'][0]['id']) for v in AAU_results])\n\nAAU_Venues = pd.DataFrame([item for AAU_venues_list in AAU_venues_list for item in AAU_venues_list])\nAAU_Venues.columns = ['Venue', 'Venue Latitude', \n                      'Venue Longitude', \n                      'Venue Category', 'Venue Categories ID'] \n#USD dataframe\nUSD_results = requests.get(USD_url).json()[\"response\"]['groups'][0]['items']\nUSD_venues_list=[]\n\nUSD_venues_list.append([(\n    v['venue']['name'],\n    v['venue']['location']['lat'],\n    v['venue']['location']['lng'],\n    v['venue']['categories'][0]['name'],\n    v['venue']['categories'][0]['id']) for v in USD_results])\n\nUSD_Venues = pd.DataFrame([item for USD_venues_list in USD_venues_list for item in USD_venues_list])\nUSD_Venues.columns = ['Venue', 'Venue Latitude', \n                      'Venue Longitude', \n                      'Venue Category', 'Venue Categories ID'] \n"
        },
        {
            "cell_type": "code",
            "execution_count": 51,
            "metadata": {},
            "outputs": [],
            "source": "#Now we have created a dataframe for the venues in a selected distance to the University of Copenhagen, based on our favourite venue types\nUOC_CFV1 = np.sum(UOC_Venues['Venue Categories ID'] == FAV1)\nUOC_CFV2 = np.sum(UOC_Venues['Venue Categories ID'] == FAV2)\nUOC_CFV3 = np.sum(UOC_Venues['Venue Categories ID'] == FAV3)\n"
        },
        {
            "cell_type": "code",
            "execution_count": 52,
            "metadata": {},
            "outputs": [],
            "source": "#Now we have created a dataframe for the venues in a selected distance to Aarhus University, based on our favourite venue types\nAAU_CFV1 = np.sum(AAU_Venues['Venue Categories ID'] == FAV1)\nAAU_CFV2 = np.sum(AAU_Venues['Venue Categories ID'] == FAV2)\nAAU_CFV3 = np.sum(AAU_Venues['Venue Categories ID'] == FAV3)"
        },
        {
            "cell_type": "code",
            "execution_count": 53,
            "metadata": {},
            "outputs": [],
            "source": "#Now we have created a dataframe for the venues in a selected distance to the University of Southern Denmark, based on our favourite venue types\nUSD_CFV1 = np.sum(USD_Venues['Venue Categories ID'] == FAV1)\nUSD_CFV2 = np.sum(USD_Venues['Venue Categories ID'] == FAV2)\nUSD_CFV3 = np.sum(USD_Venues['Venue Categories ID'] == FAV3)"
        },
        {
            "cell_type": "markdown",
            "metadata": {},
            "source": "Now we have an overview of the number of FaVorite Venues, within a selected distance (DIST) from each University. Based on the Weightning of each Favourite venue, each university are assigned a \"Match Score\". The \"Match Score\" indicates which university fulfils the Exchange Students interest the most, based on their type of venue and the weighting. \n\nTo Calculate the Match Score, we will utilize pandas inbuilt 'ranking' function. As we have three universities, this means the university with the most entries within a category will receive a '3', while the second most hits '2' and the least hits '1'. In case the universities are tied on a score, they will receive the same ranking.\n\nThe ranking (as it can be 3 for most and 1 for least hits), will be multipled with '1/3' of each of the favorite weightings. Meaning if a university gets the most hits, it will receive a 'full weighting '1/3 * rank * weight'. While the lowest rank, will score only '1/3' of the rating. Simple formula."
        },
        {
            "cell_type": "code",
            "execution_count": 54,
            "metadata": {},
            "outputs": [
                {
                    "data": {
                        "text/html": "<div>\n<style scoped>\n    .dataframe tbody tr th:only-of-type {\n        vertical-align: middle;\n    }\n\n    .dataframe tbody tr th {\n        vertical-align: top;\n    }\n\n    .dataframe thead th {\n        text-align: right;\n    }\n</style>\n<table border=\"1\" class=\"dataframe\">\n  <thead>\n    <tr style=\"text-align: right;\">\n      <th></th>\n      <th>Music Venue</th>\n      <th>Basketball Stadium</th>\n      <th>Beer Bar</th>\n    </tr>\n  </thead>\n  <tbody>\n    <tr>\n      <th>University of Copenhagen</th>\n      <td>12</td>\n      <td>0</td>\n      <td>18</td>\n    </tr>\n    <tr>\n      <th>University of Southern Denmark</th>\n      <td>17</td>\n      <td>1</td>\n      <td>4</td>\n    </tr>\n    <tr>\n      <th>Aarhus University</th>\n      <td>5</td>\n      <td>0</td>\n      <td>0</td>\n    </tr>\n  </tbody>\n</table>\n</div>",
                        "text/plain": "                                Music Venue  Basketball Stadium  Beer Bar\nUniversity of Copenhagen                 12                   0        18\nUniversity of Southern Denmark           17                   1         4\nAarhus University                         5                   0         0"
                    },
                    "execution_count": 54,
                    "metadata": {},
                    "output_type": "execute_result"
                }
            ],
            "source": "universities = {FAV1_Name: [UOC_CFV1, AAU_CFV1, USD_CFV1], \n                FAV2_Name: [UOC_CFV2, AAU_CFV2, USD_CFV2],\n                FAV3_Name: [UOC_CFV3, AAU_CFV3, USD_CFV3]}\n\nUniversity = {'University of Copenhagen','Aarhus University', 'University of Southern Denmark'}\n\nUniversity_Count = pd.DataFrame(universities, columns = [FAV1_Name, FAV2_Name, FAV3_Name])\nUniversity_Count.index = University\nUniversity_Count"
        },
        {
            "cell_type": "code",
            "execution_count": 55,
            "metadata": {},
            "outputs": [
                {
                    "data": {
                        "text/html": "<div>\n<style scoped>\n    .dataframe tbody tr th:only-of-type {\n        vertical-align: middle;\n    }\n\n    .dataframe tbody tr th {\n        vertical-align: top;\n    }\n\n    .dataframe thead th {\n        text-align: right;\n    }\n</style>\n<table border=\"1\" class=\"dataframe\">\n  <thead>\n    <tr style=\"text-align: right;\">\n      <th></th>\n      <th>Music Venue</th>\n      <th>Basketball Stadium</th>\n      <th>Beer Bar</th>\n    </tr>\n  </thead>\n  <tbody>\n    <tr>\n      <th>University of Copenhagen</th>\n      <td>2.0</td>\n      <td>1.5</td>\n      <td>3.0</td>\n    </tr>\n    <tr>\n      <th>University of Southern Denmark</th>\n      <td>3.0</td>\n      <td>3.0</td>\n      <td>2.0</td>\n    </tr>\n    <tr>\n      <th>Aarhus University</th>\n      <td>1.0</td>\n      <td>1.5</td>\n      <td>1.0</td>\n    </tr>\n  </tbody>\n</table>\n</div>",
                        "text/plain": "                                Music Venue  Basketball Stadium  Beer Bar\nUniversity of Copenhagen                2.0                 1.5       3.0\nUniversity of Southern Denmark          3.0                 3.0       2.0\nAarhus University                       1.0                 1.5       1.0"
                    },
                    "execution_count": 55,
                    "metadata": {},
                    "output_type": "execute_result"
                }
            ],
            "source": "Uni_Rank = University_Count.rank()\nUni_Rank"
        },
        {
            "cell_type": "code",
            "execution_count": 56,
            "metadata": {},
            "outputs": [
                {
                    "data": {
                        "text/html": "<div>\n<style scoped>\n    .dataframe tbody tr th:only-of-type {\n        vertical-align: middle;\n    }\n\n    .dataframe tbody tr th {\n        vertical-align: top;\n    }\n\n    .dataframe thead th {\n        text-align: right;\n    }\n</style>\n<table border=\"1\" class=\"dataframe\">\n  <thead>\n    <tr style=\"text-align: right;\">\n      <th></th>\n      <th>Music Venue Score</th>\n      <th>Basketball Stadium Score</th>\n      <th>Beer Bar Score</th>\n      <th>Total Match</th>\n    </tr>\n  </thead>\n  <tbody>\n    <tr>\n      <th>University of Southern Denmark</th>\n      <td>0.500000</td>\n      <td>0.30</td>\n      <td>0.133333</td>\n      <td>0.933333</td>\n    </tr>\n    <tr>\n      <th>University of Copenhagen</th>\n      <td>0.333333</td>\n      <td>0.15</td>\n      <td>0.200000</td>\n      <td>0.683333</td>\n    </tr>\n    <tr>\n      <th>Aarhus University</th>\n      <td>0.166667</td>\n      <td>0.15</td>\n      <td>0.066667</td>\n      <td>0.383333</td>\n    </tr>\n  </tbody>\n</table>\n</div>",
                        "text/plain": "                                Music Venue Score  Basketball Stadium Score  \\\nUniversity of Southern Denmark           0.500000                      0.30   \nUniversity of Copenhagen                 0.333333                      0.15   \nAarhus University                        0.166667                      0.15   \n\n                                Beer Bar Score  Total Match  \nUniversity of Southern Denmark        0.133333     0.933333  \nUniversity of Copenhagen              0.200000     0.683333  \nAarhus University                     0.066667     0.383333  "
                    },
                    "execution_count": 56,
                    "metadata": {},
                    "output_type": "execute_result"
                }
            ],
            "source": "Match_Score = Uni_Rank.rename(columns={FAV1_Name: FAV1_Name  + \" Score\", FAV2_Name: FAV2_Name  + \" Score\", FAV3_Name: FAV3_Name  + \" Score\"})\nMatch_Score[FAV1_Name  + \" Score\"] = (Match_Score[FAV1_Name  + \" Score\"]*WF1*(1/3))/100\nMatch_Score[FAV2_Name  + \" Score\"] = (Match_Score[FAV2_Name  + \" Score\"]*WF2*(1/3))/100\nMatch_Score[FAV3_Name  + \" Score\"] = (Match_Score[FAV3_Name  + \" Score\"]*WF3*(1/3))/100\nMatch_Score['Total Match'] = Match_Score.sum(axis=1)\nMatch_Score = Match_Score.sort_values('Total Match', ascending=False)\nMatch_Score"
        },
        {
            "cell_type": "code",
            "execution_count": 57,
            "metadata": {},
            "outputs": [
                {
                    "name": "stdout",
                    "output_type": "stream",
                    "text": "Your best Match is with: \u001b[1mUniversity of Southern Denmark\u001b[0m\nYour match: \u001b[1m0.93%\u001b[0m\nThis is based on your three chosen favourite venues Music Venue, Basketball Stadium, and Beer Bar\n"
                }
            ],
            "source": "print('Your best Match is with:', '\\033[1m' + Match_Score.index[0] + '\\033[0m')\nprint('Your match:', '\\033[1m' + Match_Score['Total Match'].iloc[0].round(2).astype(str) + '%' + '\\033[0m')\nprint('This is based on your three chosen favourite venues', FAV1_Name + \", \" + FAV2_Name + \", and \" + FAV3_Name)"
        },
        {
            "cell_type": "code",
            "execution_count": null,
            "metadata": {},
            "outputs": [],
            "source": ""
        }
    ],
    "metadata": {
        "kernelspec": {
            "display_name": "Python 3.6",
            "language": "python",
            "name": "python3"
        },
        "language_info": {
            "codemirror_mode": {
                "name": "ipython",
                "version": 3
            },
            "file_extension": ".py",
            "mimetype": "text/x-python",
            "name": "python",
            "nbconvert_exporter": "python",
            "pygments_lexer": "ipython3",
            "version": "3.6.9"
        }
    },
    "nbformat": 4,
    "nbformat_minor": 1
}