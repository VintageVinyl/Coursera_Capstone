{
    "cells": [
        {
            "cell_type": "markdown",
            "metadata": {
                "collapsed": true
            },
            "source": "# Exchange Student Decision Assistant - Notebook"
        },
        {
            "cell_type": "markdown",
            "metadata": {},
            "source": "### Initializaiton -  Package Load & Fixed Parameters\nPresented here is the coordinates for each of the universities supported by the Exchange Student Decision Assistant\n\n- GPS coordinates of Denmark. Latitude: 56.2639 Longitude: 9.5017\n- GPS coordinates of University of Copenhagen (UoC), Denmark. Latitude: 55.6745 Longitude: 12.5702.\n- GPS cpordinates of Aarhus University (AAU), Denmark. Latitude: 56.1666 Longitude: 10.1999\n- GPS coordinates of University of Southern Denmark (USD), Denmark.Latitude: 55.3678 Longitude: 10.4234"
        },
        {
            "cell_type": "code",
            "execution_count": 4,
            "metadata": {},
            "outputs": [
                {
                    "name": "stdout",
                    "output_type": "stream",
                    "text": "Solving environment: done\n\n## Package Plan ##\n\n  environment location: /opt/conda/envs/Python36\n\n  added / updated specs: \n    - folium=0.5.0\n\n\nThe following packages will be downloaded:\n\n    package                    |            build\n    ---------------------------|-----------------\n    altair-4.1.0               |             py_1         614 KB  conda-forge\n    python_abi-3.6             |          1_cp36m           4 KB  conda-forge\n    ca-certificates-2020.6.20  |       hecda079_0         145 KB  conda-forge\n    certifi-2020.6.20          |   py36h9f0ad1d_0         151 KB  conda-forge\n    openssl-1.1.1g             |       h516909a_1         2.1 MB  conda-forge\n    vincent-0.4.4              |             py_1          28 KB  conda-forge\n    folium-0.5.0               |             py_0          45 KB  conda-forge\n    branca-0.4.1               |             py_0          26 KB  conda-forge\n    ------------------------------------------------------------\n                                           Total:         3.1 MB\n\nThe following NEW packages will be INSTALLED:\n\n    altair:          4.1.0-py_1        conda-forge\n    branca:          0.4.1-py_0        conda-forge\n    folium:          0.5.0-py_0        conda-forge\n    python_abi:      3.6-1_cp36m       conda-forge\n    vincent:         0.4.4-py_1        conda-forge\n\nThe following packages will be UPDATED:\n\n    certifi:         2020.6.20-py36_0              --> 2020.6.20-py36h9f0ad1d_0 conda-forge\n    openssl:         1.1.1g-h7b6447c_0             --> 1.1.1g-h516909a_1        conda-forge\n\nThe following packages will be DOWNGRADED:\n\n    ca-certificates: 2020.6.24-0                   --> 2020.6.20-hecda079_0     conda-forge\n\n\nDownloading and Extracting Packages\naltair-4.1.0         | 614 KB    | ##################################### | 100% \npython_abi-3.6       | 4 KB      | ##################################### | 100% \nca-certificates-2020 | 145 KB    | ##################################### | 100% \ncertifi-2020.6.20    | 151 KB    | ##################################### | 100% \nopenssl-1.1.1g       | 2.1 MB    | ##################################### | 100% \nvincent-0.4.4        | 28 KB     | ##################################### | 100% \nfolium-0.5.0         | 45 KB     | ##################################### | 100% \nbranca-0.4.1         | 26 KB     | ##################################### | 100% \nPreparing transaction: done\nVerifying transaction: done\nExecuting transaction: done\nLibraries imported.\n"
                }
            ],
            "source": "#Load necessary packages\nimport numpy as np\nimport pandas as pd\nimport json\nimport requests\n\n!conda install -c conda-forge folium=0.5.0 --yes\nimport folium # map rendering library\n\nprint('Libraries imported.')"
        },
        {
            "cell_type": "code",
            "execution_count": 5,
            "metadata": {},
            "outputs": [],
            "source": "# Setting the fixed parameters - namely the longitude and latitude of each university\nDK_Lat = 56.2639\nDK_Long = 9.5017\nUOC_Lat = 55.6745\nUOC_Long = 12.5702\nAAU_Lat = 56.1666\nAAU_Long = 10.1999\nUSD_Lat = 55.3678\nUSD_Long = 10.4234"
        },
        {
            "cell_type": "markdown",
            "metadata": {},
            "source": "### Visualization of Universities in Denmark "
        },
        {
            "cell_type": "code",
            "execution_count": 6,
            "metadata": {
                "scrolled": false
            },
            "outputs": [
                {
                    "data": {
                        "text/html": "<div style=\"width:100%;\"><div style=\"position:relative;width:100%;height:0;padding-bottom:60%;\"><span style=\"color:#565656\">Make this Notebook Trusted to load map: File -> Trust Notebook</span><iframe src=\"about:blank\" style=\"position:absolute;width:100%;height:100%;left:0;top:0;border:none !important;\" data-html=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 onload=\"this.contentDocument.open();this.contentDocument.write(atob(this.getAttribute('data-html')));this.contentDocument.close();\" allowfullscreen webkitallowfullscreen mozallowfullscreen></iframe></div></div>",
                        "text/plain": "<folium.folium.Map at 0x7fa44e89eb00>"
                    },
                    "execution_count": 6,
                    "metadata": {},
                    "output_type": "execute_result"
                }
            ],
            "source": "# creates a map of Denmark using the DK_Lat and DK_Long values\nmap_denmark = folium.Map(location=[DK_Lat, DK_Long], zoom_start=8)\n\n# add markers to map\n#Initial adding, University of Copenhagen\nfolium.CircleMarker(\n    [UOC_Lat, UOC_Long],\n    radius=5,\n    color='blue',\n    popup = 'University of Copenhagen',\n    fill=True,\n    fill_color='#3186cc',\n    fill_opacity=0.7,\n    parse_html=False).add_to(map_denmark)\n#Adds Aarhus University to the map\nfolium.CircleMarker(\n    [AAU_Lat, AAU_Long],\n    radius=5,\n    color='blue',\n    popup = 'Aarhus University',\n    fill=True,\n    fill_color='#3186cc',\n    fill_opacity=0.7,\n    parse_html=False).add_to(map_denmark) \n#Adds University of Southern Denmark to the map\nfolium.CircleMarker(\n    [USD_Lat, USD_Long],\n    radius=5,\n    color='blue',\n    popup = 'University of Southern Denmark',\n    fill=True,\n    fill_color='#3186cc',\n    fill_opacity=0.7,\n    parse_html=False).add_to(map_denmark) \n    \nmap_denmark"
        },
        {
            "cell_type": "markdown",
            "metadata": {},
            "source": "### User Input - Distance, Venues and Weight"
        },
        {
            "cell_type": "markdown",
            "metadata": {},
            "source": "A Map of Denmark including the location of the three different universities have been plotted using Folium.\n\nNext up - the notebook will take userinput to set the following parameters\n\n- Distance (DIST) from each university in which you want to search the area for your favourite venues. DIST is measured in the unit of 'meters'\n- Favourite Venue Type 1 (FAV1) \n- Favourite Venue Type 2 (FAV2)\n- Favourite Venue Type 3 (FAV3)\n- Weighting of FAV1 (WF1)\n- Weighting of FAV2 (WF2)\n- Weighting of FAV3 (WF3)\n\nThe 'Favourite Venue Type X', should be selected from the foursquare homepage over venues, and must include the 'categoryId' number. Follow this [link](https://developer.foursquare.com/docs/build-with-foursquare/categories/) and copy/paste the name and number under each of your favourite three venues."
        },
        {
            "cell_type": "code",
            "execution_count": 9,
            "metadata": {
                "scrolled": true
            },
            "outputs": [
                {
                    "name": "stdout",
                    "output_type": "stream",
                    "text": "Please select the distance from the university you want to explore [m]: 8000\n"
                }
            ],
            "source": "DIST = input('Please select the distance from the university you want to explore [m]: ')"
        },
        {
            "cell_type": "markdown",
            "metadata": {},
            "source": "Now select your three favourite types of venues"
        },
        {
            "cell_type": "code",
            "execution_count": 10,
            "metadata": {},
            "outputs": [
                {
                    "name": "stdout",
                    "output_type": "stream",
                    "text": "Please Enter the name of the venue type: Music Venue\nPlease enter the matching CategoryId for your Favourite Venue Type 1: 4bf58dd8d48988d1e5931735\n"
                }
            ],
            "source": "FAV1_Name = input('Please Enter the name of the venue type: ') #let's the user enter Venue name\nFAV1 = input('Please enter the matching CategoryId for your Favourite Venue Type 1: ' ) #Let's the user paste categoryId of Venue"
        },
        {
            "cell_type": "code",
            "execution_count": 11,
            "metadata": {},
            "outputs": [
                {
                    "name": "stdout",
                    "output_type": "stream",
                    "text": "Please Enter the name of the venue type: Basketball Stadium\nPlease enter the matching CategoryId for your Favourite Venue Type 2: 4bf58dd8d48988d18b941735\n"
                }
            ],
            "source": "FAV2_Name = input('Please Enter the name of the venue type: ')\nFAV2 = input('Please enter the matching CategoryId for your Favourite Venue Type 2: ' )"
        },
        {
            "cell_type": "code",
            "execution_count": 12,
            "metadata": {},
            "outputs": [
                {
                    "name": "stdout",
                    "output_type": "stream",
                    "text": "Please Enter the name of the venue type: Beer Bar\nPlease enter the matching CategoryId for your Favourite Venue Type 3: 56aa371ce4b08b9a8d57356c\n"
                }
            ],
            "source": "FAV3_Name = input('Please Enter the name of the venue type: ')\nFAV3 = input('Please enter the matching CategoryId for your Favourite Venue Type 3: ' )"
        },
        {
            "cell_type": "markdown",
            "metadata": {},
            "source": "Next select the weighting (integer) of each Favourite Venue Type, the sum of the weighting must equal 100. Split the 100 between each of the three venues to ensure"
        },
        {
            "cell_type": "code",
            "execution_count": 13,
            "metadata": {},
            "outputs": [],
            "source": "WF1 = 0 #sets the initial weight factor to 0 of all weights\nWF2 = 0\nWF3 = 0\ntwf = [WF1, WF2, WF3] #array with different weight factors, used for assessing the total value of weight factors and used in the try/except functions below"
        },
        {
            "cell_type": "code",
            "execution_count": 14,
            "metadata": {},
            "outputs": [
                {
                    "name": "stdout",
                    "output_type": "stream",
                    "text": "Enter the weight you wish to assign Venue Type 1: 50\nYou have  50  points left to distribute\n"
                }
            ],
            "source": "while True:\n    try:\n        WF1 = int(input('Enter the weight you wish to assign Venue Type 1: ')) #Let's the user assign a value between 0-100 to rate the value of each Venue for them\n        if sum(twf) < 100:\n            break\n        else:\n            print('Total weight exceeds 100')\n    except ValueError:\n        print('Please enter a whole number')\n        \nrem1 = 100 - WF1 - WF2 - WF3\nprint('You have ', rem1, ' points left to distribute')"
        },
        {
            "cell_type": "code",
            "execution_count": 15,
            "metadata": {},
            "outputs": [
                {
                    "name": "stdout",
                    "output_type": "stream",
                    "text": "Enter the weight you wish to assign Venue Type 1: 30\nYou have  20  points left to distribute\n"
                }
            ],
            "source": "while True:\n    try:\n        WF2 = int(input('Enter the weight you wish to assign Venue Type 1: ')) #Let's the user assign a value between 0-100 to rate the value of each Venue for them\n        if sum(twf) < 100:\n            break\n        else:\n            print('Total weight exceeds 100')\n    except ValueError:\n        print('Please enter a whole number')\n        \nrem1 = 100 - WF1 - WF2 - WF3\nprint('You have ', rem1, ' points left to distribute')"
        },
        {
            "cell_type": "code",
            "execution_count": 16,
            "metadata": {},
            "outputs": [
                {
                    "name": "stdout",
                    "output_type": "stream",
                    "text": "Enter the weight you wish to assign Venue Type 1: 20\nYou have  0  points left to distribute\n"
                }
            ],
            "source": "while True:\n    try:\n        WF3 = int(input('Enter the weight you wish to assign Venue Type 1: ')) #Let's the user assign a value between 0-100 to rate the value of each Venue for them\n        if sum(twf) < 100:\n            break\n        else:\n            print('Total weight exceeds 100')\n    except ValueError:\n        print('Please enter a whole number')\n        \nrem1 = 100 - WF1 - WF2 - WF3\nprint('You have ', rem1, ' points left to distribute')"
        },
        {
            "cell_type": "code",
            "execution_count": 17,
            "metadata": {},
            "outputs": [],
            "source": "# The code was removed by Watson Studio for sharing."
        },
        {
            "cell_type": "markdown",
            "metadata": {},
            "source": "### Foursquare API calls - urls"
        },
        {
            "cell_type": "code",
            "execution_count": 18,
            "metadata": {},
            "outputs": [],
            "source": "#University of Copenhagen URL\nUOC_url = 'https://api.foursquare.com/v2/venues/explore?&client_id={}&client_secret={}&v={}&ll={},{}&radius={}&categoryId={},{},{}'.format(\n    CLIENT_ID, \n    CLIENT_SECRET, \n    VERSION, \n    UOC_Lat, \n    UOC_Long, \n    DIST, \n    FAV1,\n    FAV2,\n    FAV3)\n\n#Aarhus University URL\nAAU_url = 'https://api.foursquare.com/v2/venues/explore?&client_id={}&client_secret={}&v={}&ll={},{}&radius={}&categoryId={},{},{}'.format(\n    CLIENT_ID, \n    CLIENT_SECRET, \n    VERSION, \n    AAU_Lat, \n    AAU_Long, \n    DIST, \n    FAV1,\n    FAV2,\n    FAV3)\n\n#University of Southern Denmark URL\nUSD_url = 'https://api.foursquare.com/v2/venues/explore?&client_id={}&client_secret={}&v={}&ll={},{}&radius={}&categoryId={},{},{}'.format(\n    CLIENT_ID, \n    CLIENT_SECRET, \n    VERSION, \n    USD_Lat, \n    USD_Long, \n    DIST, \n    FAV1,\n    FAV2,\n    FAV3)"
        },
        {
            "cell_type": "markdown",
            "metadata": {},
            "source": "### Foursquare API calls - Request and create dataframe for each University"
        },
        {
            "cell_type": "code",
            "execution_count": 19,
            "metadata": {},
            "outputs": [],
            "source": "##CREATING DATAFRAMES\n#UOC dataframe\nUOC_results = requests.get(UOC_url).json()[\"response\"]['groups'][0]['items']\nUOC_venues_list=[]\n\nUOC_venues_list.append([(\n    v['venue']['name'],\n    v['venue']['location']['lat'],\n    v['venue']['location']['lng'],\n    v['venue']['categories'][0]['name'],\n    v['venue']['categories'][0]['id']) for v in UOC_results])\n\nUOC_Venues = pd.DataFrame([item for UOC_venues_list in UOC_venues_list for item in UOC_venues_list])\nUOC_Venues.columns = ['Venue', 'Venue Latitude', \n                      'Venue Longitude', \n                      'Venue Category', 'Venue Categories ID'] \n#AAU dataframe\nAAU_results = requests.get(AAU_url).json()[\"response\"]['groups'][0]['items']\nAAU_venues_list=[]\n\nAAU_venues_list.append([(\n    v['venue']['name'],\n    v['venue']['location']['lat'],\n    v['venue']['location']['lng'],\n    v['venue']['categories'][0]['name'],\n    v['venue']['categories'][0]['id']) for v in AAU_results])\n\nAAU_Venues = pd.DataFrame([item for AAU_venues_list in AAU_venues_list for item in AAU_venues_list])\nAAU_Venues.columns = ['Venue', 'Venue Latitude', \n                      'Venue Longitude', \n                      'Venue Category', 'Venue Categories ID'] \n#USD dataframe\nUSD_results = requests.get(USD_url).json()[\"response\"]['groups'][0]['items']\nUSD_venues_list=[]\n\nUSD_venues_list.append([(\n    v['venue']['name'],\n    v['venue']['location']['lat'],\n    v['venue']['location']['lng'],\n    v['venue']['categories'][0]['name'],\n    v['venue']['categories'][0]['id']) for v in USD_results])\n\nUSD_Venues = pd.DataFrame([item for USD_venues_list in USD_venues_list for item in USD_venues_list])\nUSD_Venues.columns = ['Venue', 'Venue Latitude', \n                      'Venue Longitude', \n                      'Venue Category', 'Venue Categories ID'] \n"
        },
        {
            "cell_type": "markdown",
            "metadata": {},
            "source": "### Count (through sum) number of Venues within Each Category"
        },
        {
            "cell_type": "code",
            "execution_count": 20,
            "metadata": {},
            "outputs": [],
            "source": "#Now we have created a dataframe for the venues in a selected distance to the University of Copenhagen, based on our favourite venue types\nUOC_CFV1 = np.sum(UOC_Venues['Venue Categories ID'] == FAV1)\nUOC_CFV2 = np.sum(UOC_Venues['Venue Categories ID'] == FAV2)\nUOC_CFV3 = np.sum(UOC_Venues['Venue Categories ID'] == FAV3)\n"
        },
        {
            "cell_type": "code",
            "execution_count": 21,
            "metadata": {},
            "outputs": [],
            "source": "#Now we have created a dataframe for the venues in a selected distance to Aarhus University, based on our favourite venue types\nAAU_CFV1 = np.sum(AAU_Venues['Venue Categories ID'] == FAV1)\nAAU_CFV2 = np.sum(AAU_Venues['Venue Categories ID'] == FAV2)\nAAU_CFV3 = np.sum(AAU_Venues['Venue Categories ID'] == FAV3)"
        },
        {
            "cell_type": "code",
            "execution_count": 22,
            "metadata": {},
            "outputs": [],
            "source": "#Now we have created a dataframe for the venues in a selected distance to the University of Southern Denmark, based on our favourite venue types\nUSD_CFV1 = np.sum(USD_Venues['Venue Categories ID'] == FAV1)\nUSD_CFV2 = np.sum(USD_Venues['Venue Categories ID'] == FAV2)\nUSD_CFV3 = np.sum(USD_Venues['Venue Categories ID'] == FAV3)"
        },
        {
            "cell_type": "markdown",
            "metadata": {},
            "source": "### Results\nNow we have an overview of the number of FaVorite Venues, within a selected distance (DIST) from each University. Based on the Weightning of each Favourite venue, each university are assigned a \"Match Score\". The \"Match Score\" indicates which university fulfils the Exchange Students interest the most, based on their type of venue and the weighting. \n\nTo Calculate the Match Score, we will utilize pandas inbuilt 'ranking' function. As we have three universities, this means the university with the most entries within a category will receive a '3', while the second most hits '2' and the least hits '1'. In case the universities are tied on a score, they will receive the same ranking.\n\nThe ranking (as it can be 3 for most and 1 for least hits), will be multipled with '1/3' of each of the favorite weightings. Meaning if a university gets the most hits, it will receive a 'full weighting '1/3 * rank * weight'. While the lowest rank, will score only '1/3' of the rating. Simple formula."
        },
        {
            "cell_type": "code",
            "execution_count": 23,
            "metadata": {},
            "outputs": [
                {
                    "data": {
                        "text/html": "<div>\n<style scoped>\n    .dataframe tbody tr th:only-of-type {\n        vertical-align: middle;\n    }\n\n    .dataframe tbody tr th {\n        vertical-align: top;\n    }\n\n    .dataframe thead th {\n        text-align: right;\n    }\n</style>\n<table border=\"1\" class=\"dataframe\">\n  <thead>\n    <tr style=\"text-align: right;\">\n      <th></th>\n      <th>Music Venue</th>\n      <th>Basketball Stadium</th>\n      <th>Beer Bar</th>\n    </tr>\n  </thead>\n  <tbody>\n    <tr>\n      <th>Aarhus University</th>\n      <td>12</td>\n      <td>0</td>\n      <td>18</td>\n    </tr>\n    <tr>\n      <th>University of Copenhagen</th>\n      <td>17</td>\n      <td>1</td>\n      <td>4</td>\n    </tr>\n    <tr>\n      <th>University of Southern Denmark</th>\n      <td>5</td>\n      <td>0</td>\n      <td>0</td>\n    </tr>\n  </tbody>\n</table>\n</div>",
                        "text/plain": "                                Music Venue  Basketball Stadium  Beer Bar\nAarhus University                        12                   0        18\nUniversity of Copenhagen                 17                   1         4\nUniversity of Southern Denmark            5                   0         0"
                    },
                    "execution_count": 23,
                    "metadata": {},
                    "output_type": "execute_result"
                }
            ],
            "source": "#Create dataframe of 'counted' values\nuniversities = {FAV1_Name: [UOC_CFV1, AAU_CFV1, USD_CFV1], \n                FAV2_Name: [UOC_CFV2, AAU_CFV2, USD_CFV2],\n                FAV3_Name: [UOC_CFV3, AAU_CFV3, USD_CFV3]}\n\nUniversity = {'University of Copenhagen','Aarhus University', 'University of Southern Denmark'}\n\nUniversity_Count = pd.DataFrame(universities, columns = [FAV1_Name, FAV2_Name, FAV3_Name])\nUniversity_Count.index = University\nUniversity_Count"
        },
        {
            "cell_type": "code",
            "execution_count": 24,
            "metadata": {},
            "outputs": [
                {
                    "data": {
                        "text/html": "<div>\n<style scoped>\n    .dataframe tbody tr th:only-of-type {\n        vertical-align: middle;\n    }\n\n    .dataframe tbody tr th {\n        vertical-align: top;\n    }\n\n    .dataframe thead th {\n        text-align: right;\n    }\n</style>\n<table border=\"1\" class=\"dataframe\">\n  <thead>\n    <tr style=\"text-align: right;\">\n      <th></th>\n      <th>Music Venue</th>\n      <th>Basketball Stadium</th>\n      <th>Beer Bar</th>\n    </tr>\n  </thead>\n  <tbody>\n    <tr>\n      <th>Aarhus University</th>\n      <td>2.0</td>\n      <td>1.5</td>\n      <td>3.0</td>\n    </tr>\n    <tr>\n      <th>University of Copenhagen</th>\n      <td>3.0</td>\n      <td>3.0</td>\n      <td>2.0</td>\n    </tr>\n    <tr>\n      <th>University of Southern Denmark</th>\n      <td>1.0</td>\n      <td>1.5</td>\n      <td>1.0</td>\n    </tr>\n  </tbody>\n</table>\n</div>",
                        "text/plain": "                                Music Venue  Basketball Stadium  Beer Bar\nAarhus University                       2.0                 1.5       3.0\nUniversity of Copenhagen                3.0                 3.0       2.0\nUniversity of Southern Denmark          1.0                 1.5       1.0"
                    },
                    "execution_count": 24,
                    "metadata": {},
                    "output_type": "execute_result"
                }
            ],
            "source": "#Ranks each university with regards to Venue (High is better)\nUni_Rank = University_Count.rank()\nUni_Rank"
        },
        {
            "cell_type": "code",
            "execution_count": 25,
            "metadata": {},
            "outputs": [
                {
                    "data": {
                        "text/html": "<div>\n<style scoped>\n    .dataframe tbody tr th:only-of-type {\n        vertical-align: middle;\n    }\n\n    .dataframe tbody tr th {\n        vertical-align: top;\n    }\n\n    .dataframe thead th {\n        text-align: right;\n    }\n</style>\n<table border=\"1\" class=\"dataframe\">\n  <thead>\n    <tr style=\"text-align: right;\">\n      <th></th>\n      <th>Music Venue Score</th>\n      <th>Basketball Stadium Score</th>\n      <th>Beer Bar Score</th>\n      <th>Total Match</th>\n    </tr>\n  </thead>\n  <tbody>\n    <tr>\n      <th>University of Copenhagen</th>\n      <td>0.500000</td>\n      <td>0.30</td>\n      <td>0.133333</td>\n      <td>0.933333</td>\n    </tr>\n    <tr>\n      <th>Aarhus University</th>\n      <td>0.333333</td>\n      <td>0.15</td>\n      <td>0.200000</td>\n      <td>0.683333</td>\n    </tr>\n    <tr>\n      <th>University of Southern Denmark</th>\n      <td>0.166667</td>\n      <td>0.15</td>\n      <td>0.066667</td>\n      <td>0.383333</td>\n    </tr>\n  </tbody>\n</table>\n</div>",
                        "text/plain": "                                Music Venue Score  Basketball Stadium Score  \\\nUniversity of Copenhagen                 0.500000                      0.30   \nAarhus University                        0.333333                      0.15   \nUniversity of Southern Denmark           0.166667                      0.15   \n\n                                Beer Bar Score  Total Match  \nUniversity of Copenhagen              0.133333     0.933333  \nAarhus University                     0.200000     0.683333  \nUniversity of Southern Denmark        0.066667     0.383333  "
                    },
                    "execution_count": 25,
                    "metadata": {},
                    "output_type": "execute_result"
                }
            ],
            "source": "#This section calculates the weighted score for each Venue type, based in user input\nMatch_Score = Uni_Rank.rename(columns={FAV1_Name: FAV1_Name  + \" Score\", FAV2_Name: FAV2_Name  + \" Score\", FAV3_Name: FAV3_Name  + \" Score\"})\nMatch_Score[FAV1_Name  + \" Score\"] = (Match_Score[FAV1_Name  + \" Score\"]*WF1*(1/3))/100\nMatch_Score[FAV2_Name  + \" Score\"] = (Match_Score[FAV2_Name  + \" Score\"]*WF2*(1/3))/100\nMatch_Score[FAV3_Name  + \" Score\"] = (Match_Score[FAV3_Name  + \" Score\"]*WF3*(1/3))/100\nMatch_Score['Total Match'] = Match_Score.sum(axis=1)\nMatch_Score = Match_Score.sort_values('Total Match', ascending=False)\nMatch_Score"
        },
        {
            "cell_type": "markdown",
            "metadata": {},
            "source": "### Recommendation"
        },
        {
            "cell_type": "code",
            "execution_count": 26,
            "metadata": {},
            "outputs": [
                {
                    "name": "stdout",
                    "output_type": "stream",
                    "text": "Your best Match is with: \u001b[1mUniversity of Copenhagen\u001b[0m\nYour match: \u001b[1m0.93%\u001b[0m\nThis is based on your three chosen favourite venues Music Venue, Basketball Stadium, and Beer Bar\n"
                }
            ],
            "source": "print('Your best Match is with:', '\\033[1m' + Match_Score.index[0] + '\\033[0m')\nprint('Your match:', '\\033[1m' + Match_Score['Total Match'].iloc[0].round(2).astype(str) + '%' + '\\033[0m')\nprint('This is based on your three chosen favourite venues', FAV1_Name + \", \" + FAV2_Name + \", and \" + FAV3_Name)"
        }
    ],
    "metadata": {
        "kernelspec": {
            "display_name": "Python 3.6",
            "language": "python",
            "name": "python3"
        },
        "language_info": {
            "codemirror_mode": {
                "name": "ipython",
                "version": 3
            },
            "file_extension": ".py",
            "mimetype": "text/x-python",
            "name": "python",
            "nbconvert_exporter": "python",
            "pygments_lexer": "ipython3",
            "version": "3.6.9"
        }
    },
    "nbformat": 4,
    "nbformat_minor": 1
}