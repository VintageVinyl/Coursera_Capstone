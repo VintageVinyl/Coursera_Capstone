{
    "cells": [
        {
            "cell_type": "markdown",
            "metadata": {
                "collapsed": true
            },
            "source": "# Exchange Student Decision Assistant"
        },
        {
            "cell_type": "markdown",
            "metadata": {},
            "source": "### Introduction/Business Problem"
        },
        {
            "cell_type": "markdown",
            "metadata": {},
            "source": "The introduction will state the initial assumptions and background for the selected problem.\n\nAssuming you are a student studying Medicine. You want to have a year abroad, and your fondness has landed on Denmark. In Denmark, there are three major universities in three major cities, which offers exchange students the possibility to study Medicine. Namely, University of Aarhus (located in Jutland), University of Southern Denmark (located in Funen) and the University of Copenhagen (located in Zealand).\n\nIf you as an exchange student has no inherent preference towards either of the three universities, and that all three universities are equally renowned and offer the same level of education, how do you choose which university to attend?\n\nThis project seeks to solve the above problem, by helping interested exchange students in a way of assessing which area provides the most of their favorite three interests and make them able to select a university and location to study in Denmark based on these."
        },
        {
            "cell_type": "markdown",
            "metadata": {},
            "source": "### Data"
        },
        {
            "cell_type": "markdown",
            "metadata": {},
            "source": "By using the Foursquare API location data, this assignment will make it possible to enter your three favorite types of venues, using the [\u2018categoryId\u2019](https://developer.foursquare.com/docs/build-with-foursquare/categories/) feature (you must copy the categoryId number into the specified fields). \nThe project will then search for the three types of favorite venues, in a user selected radius  from each University.\n\nBased on the selected venue interest types, the project aim to provide a ranked list of which University to attend. \n\nFor future development, the cost of housing, demographics and other parameters for the Decision Assistant can be developed."
        },
        {
            "cell_type": "code",
            "execution_count": null,
            "metadata": {},
            "outputs": [],
            "source": ""
        }
    ],
    "metadata": {
        "kernelspec": {
            "display_name": "Python 3.6",
            "language": "python",
            "name": "python3"
        },
        "language_info": {
            "codemirror_mode": {
                "name": "ipython",
                "version": 3
            },
            "file_extension": ".py",
            "mimetype": "text/x-python",
            "name": "python",
            "nbconvert_exporter": "python",
            "pygments_lexer": "ipython3",
            "version": "3.6.9"
        }
    },
    "nbformat": 4,
    "nbformat_minor": 1
}